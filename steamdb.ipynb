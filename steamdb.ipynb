{
 "cells": [
  {
   "cell_type": "code",
   "execution_count": 1,
   "metadata": {},
   "outputs": [],
   "source": [
    "# Impotando bibliotecas.\n",
    "import time\n",
    "import warnings\n",
    "import requests\n",
    "import pandas as pd\n",
    "\n",
    "from datetime import datetime\n",
    "from bs4 import BeautifulSoup\n",
    "from google.cloud import bigquery\n",
    "from google.oauth2 import service_account\n",
    "from pandas_gbq import to_gbq\n",
    "\n",
    "warnings.filterwarnings(\"ignore\")"
   ]
  },
  {
   "cell_type": "markdown",
   "metadata": {},
   "source": [
    "## Web Scraping SteamDB"
   ]
  },
  {
   "cell_type": "code",
   "execution_count": 2,
   "metadata": {},
   "outputs": [],
   "source": [
    "# Parâmetros passados para o headers, problemas como 451.\n",
    "request_headers = {\n",
    "    'authority': 'steamdb.info',\n",
    "    'method': 'GET',\n",
    "    'path': '/sales/',\n",
    "    'scheme': 'https',\n",
    "    'Accept': 'text/html,application/xhtml+xml,application/xml;q=0.9,image/avif,image/webp,image/apng,*/*;q=0.8,application/signed-exchange;v=b3;q=0.7',\n",
    "    'Dnt': '1',\n",
    "    'Referer': 'https://steamdb.info/sales/',\n",
    "    'Sec-Ch-Ua': '\"Chromium\";v=\"124\", \"Google Chrome\";v=\"124\", \"Not-A.Brand\";v=\"99\"',\n",
    "    'Sec-Ch-Ua-Mobile': '?0',\n",
    "    'Sec-Ch-Ua-Platform': 'macOS',\n",
    "    'User-Agent': 'Mozilla/5.0 (Macintosh; Intel Mac OS X 10_15_7) AppleWebKit/537.36 (KHTML, like Gecko) Chrome/124.0.0.0 Safari/537.36'\n",
    "}\n",
    "\n",
    "# URL request ao STEAMDB.\n",
    "URL = 'https://steamdb.info/sales/'"
   ]
  },
  {
   "cell_type": "code",
   "execution_count": 4,
   "metadata": {},
   "outputs": [
    {
     "name": "stdout",
     "output_type": "stream",
     "text": [
      "Status Code: 200\n"
     ]
    }
   ],
   "source": [
    "# Lista para armazenar infomações.\n",
    "game_play = []\n",
    "\n",
    "try:\n",
    "    # Realizando raspagem no site.\n",
    "    pagina = requests.get(URL, headers=request_headers)\n",
    "    raspagem = BeautifulSoup(pagina.text, \"html.parser\")\n",
    "\n",
    "    # Verificando resquest foi realizado com sucesso.\n",
    "    if pagina.status_code == 200:\n",
    "        # Buscando tabela dos Games no html.\n",
    "        print('Status Code:', pagina.status_code)\n",
    "        tabela = list(raspagem.find_all('tr'))\n",
    "\n",
    "        # Percorendo e capturando informações da tabela de games.\n",
    "        for x_game in range(1,len(tabela)):\n",
    "            game_name = tabela[x_game].find_all('td')[2].a.text\n",
    "            game_descont = tabela[x_game].find_all('td')[3].text\n",
    "            game_price = tabela[x_game].find_all('td')[4].text\n",
    "            game_rating = tabela[x_game].find_all('td')[5].text\n",
    "            game_release = tabela[x_game].find_all('td')[6].text\n",
    "            game_ends = datetime.fromtimestamp(int(tabela[x_game].find_all('td')[7]['data-sort']))\n",
    "            game_started = datetime.fromtimestamp(int(tabela[x_game].find_all('td')[8]['data-sort']))\n",
    "\n",
    "            # Adicionando informações a lista.\n",
    "            game_play.append(dict(\n",
    "                    NAME=game_name,\n",
    "                    DESCONT=game_descont,\n",
    "                    PRICE=game_price,\n",
    "                    RATING=game_rating,\n",
    "                    RELEASE=game_release,\n",
    "                    ENDS=game_ends,\n",
    "                    STARTED=game_started\n",
    "            ))\n",
    "    elif pagina.status_code != 200:\n",
    "        print('ERRO na busca dos dados:', pagina.status_code)\n",
    "        time.sleep(10)\n",
    "except Exception as err:\n",
    "    print('Erro na execução')"
   ]
  },
  {
   "cell_type": "code",
   "execution_count": 5,
   "metadata": {},
   "outputs": [
    {
     "data": {
      "text/plain": [
       "{'NAME': 'Killing Floor',\n",
       " 'DESCONT': '-90%',\n",
       " 'PRICE': 'R$ 3,49',\n",
       " 'RATING': '93.37%',\n",
       " 'RELEASE': 'May 2009',\n",
       " 'ENDS': datetime.datetime(2024, 5, 23, 14, 0),\n",
       " 'STARTED': datetime.datetime(2024, 5, 16, 14, 1, 19)}"
      ]
     },
     "execution_count": 5,
     "metadata": {},
     "output_type": "execute_result"
    }
   ],
   "source": [
    "# Verificando primeiro registro da lista.\n",
    "game_play[0]"
   ]
  },
  {
   "cell_type": "code",
   "execution_count": 6,
   "metadata": {},
   "outputs": [
    {
     "data": {
      "text/html": [
       "<div>\n",
       "<style scoped>\n",
       "    .dataframe tbody tr th:only-of-type {\n",
       "        vertical-align: middle;\n",
       "    }\n",
       "\n",
       "    .dataframe tbody tr th {\n",
       "        vertical-align: top;\n",
       "    }\n",
       "\n",
       "    .dataframe thead th {\n",
       "        text-align: right;\n",
       "    }\n",
       "</style>\n",
       "<table border=\"1\" class=\"dataframe\">\n",
       "  <thead>\n",
       "    <tr style=\"text-align: right;\">\n",
       "      <th></th>\n",
       "      <th>NAME</th>\n",
       "      <th>DESCONT</th>\n",
       "      <th>PRICE</th>\n",
       "      <th>RATING</th>\n",
       "      <th>RELEASE</th>\n",
       "      <th>ENDS</th>\n",
       "      <th>STARTED</th>\n",
       "    </tr>\n",
       "  </thead>\n",
       "  <tbody>\n",
       "    <tr>\n",
       "      <th>0</th>\n",
       "      <td>Killing Floor</td>\n",
       "      <td>-90%</td>\n",
       "      <td>R$ 3,49</td>\n",
       "      <td>93.37%</td>\n",
       "      <td>May 2009</td>\n",
       "      <td>2024-05-23 14:00:00</td>\n",
       "      <td>2024-05-16 14:01:19</td>\n",
       "    </tr>\n",
       "    <tr>\n",
       "      <th>1</th>\n",
       "      <td>Dark Messiah of Might &amp; Magic</td>\n",
       "      <td>-75%</td>\n",
       "      <td>R$ 7,49</td>\n",
       "      <td>88.66%</td>\n",
       "      <td>Oct 2006</td>\n",
       "      <td>2024-05-31 14:00:00</td>\n",
       "      <td>2024-05-17 14:01:17</td>\n",
       "    </tr>\n",
       "    <tr>\n",
       "      <th>2</th>\n",
       "      <td>FlatOut 2™</td>\n",
       "      <td>-80%</td>\n",
       "      <td>R$ 13,99</td>\n",
       "      <td>93.70%</td>\n",
       "      <td>Aug 2006</td>\n",
       "      <td>2024-05-23 14:00:00</td>\n",
       "      <td>2024-05-09 14:01:20</td>\n",
       "    </tr>\n",
       "    <tr>\n",
       "      <th>3</th>\n",
       "      <td>Xpand Rally</td>\n",
       "      <td>-89%</td>\n",
       "      <td>R$ 1,86</td>\n",
       "      <td>77.47%</td>\n",
       "      <td>Aug 2006</td>\n",
       "      <td>2024-05-24 14:00:00</td>\n",
       "      <td>2024-05-10 14:01:18</td>\n",
       "    </tr>\n",
       "    <tr>\n",
       "      <th>4</th>\n",
       "      <td>Men of War: Red Tide</td>\n",
       "      <td>-85%</td>\n",
       "      <td>R$ 2,54</td>\n",
       "      <td>80.82%</td>\n",
       "      <td>Nov 2009</td>\n",
       "      <td>2024-05-22 14:00:00</td>\n",
       "      <td>2024-05-15 14:01:19</td>\n",
       "    </tr>\n",
       "    <tr>\n",
       "      <th>5</th>\n",
       "      <td>Judge Dredd: Dredd vs. Death</td>\n",
       "      <td>-60%</td>\n",
       "      <td>R$ 6,39</td>\n",
       "      <td>82.71%</td>\n",
       "      <td>Feb 2005</td>\n",
       "      <td>2024-05-20 14:00:00</td>\n",
       "      <td>2024-05-07 14:01:21</td>\n",
       "    </tr>\n",
       "    <tr>\n",
       "      <th>6</th>\n",
       "      <td>Evil Genius</td>\n",
       "      <td>-90%</td>\n",
       "      <td>R$ 1,99</td>\n",
       "      <td>89.90%</td>\n",
       "      <td>Sep 2004</td>\n",
       "      <td>2024-05-20 14:00:00</td>\n",
       "      <td>2024-05-07 14:01:21</td>\n",
       "    </tr>\n",
       "    <tr>\n",
       "      <th>7</th>\n",
       "      <td>Aliens versus Predator Classic 2000</td>\n",
       "      <td>-80%</td>\n",
       "      <td>R$ 3,39</td>\n",
       "      <td>84.08%</td>\n",
       "      <td>Mar 2000</td>\n",
       "      <td>2024-05-20 14:00:00</td>\n",
       "      <td>2024-05-07 14:01:21</td>\n",
       "    </tr>\n",
       "    <tr>\n",
       "      <th>8</th>\n",
       "      <td>Sid Meier's Civilization® IV</td>\n",
       "      <td>-85%</td>\n",
       "      <td>R$ 4,49</td>\n",
       "      <td>89.14%</td>\n",
       "      <td>Oct 2005</td>\n",
       "      <td>2024-05-27 14:00:00</td>\n",
       "      <td>2024-05-13 14:21:19</td>\n",
       "    </tr>\n",
       "    <tr>\n",
       "      <th>9</th>\n",
       "      <td>FlatOut</td>\n",
       "      <td>-80%</td>\n",
       "      <td>R$ 13,99</td>\n",
       "      <td>89.04%</td>\n",
       "      <td>Jul 2005</td>\n",
       "      <td>1969-12-31 21:00:00</td>\n",
       "      <td>2024-05-09 14:01:20</td>\n",
       "    </tr>\n",
       "    <tr>\n",
       "      <th>10</th>\n",
       "      <td>Dreamfall: The Longest Journey</td>\n",
       "      <td>-60%</td>\n",
       "      <td>R$ 23,99</td>\n",
       "      <td>80.36%</td>\n",
       "      <td>Apr 2006</td>\n",
       "      <td>2024-05-20 14:00:00</td>\n",
       "      <td>2024-05-13 14:21:19</td>\n",
       "    </tr>\n",
       "    <tr>\n",
       "      <th>11</th>\n",
       "      <td>The Longest Journey</td>\n",
       "      <td>-60%</td>\n",
       "      <td>R$ 13,19</td>\n",
       "      <td>86.00%</td>\n",
       "      <td>Nov 2000</td>\n",
       "      <td>2024-05-20 14:00:00</td>\n",
       "      <td>2024-05-13 14:21:19</td>\n",
       "    </tr>\n",
       "    <tr>\n",
       "      <th>12</th>\n",
       "      <td>Nexus - The Jupiter Incident</td>\n",
       "      <td>-80%</td>\n",
       "      <td>R$ 3,99</td>\n",
       "      <td>80.54%</td>\n",
       "      <td>Nov 2004</td>\n",
       "      <td>2024-05-20 14:00:00</td>\n",
       "      <td>2024-05-13 14:21:19</td>\n",
       "    </tr>\n",
       "    <tr>\n",
       "      <th>13</th>\n",
       "      <td>Battlestations: Midway</td>\n",
       "      <td>-86%</td>\n",
       "      <td>R$ 3,06</td>\n",
       "      <td>73.90%</td>\n",
       "      <td>Jan 2007</td>\n",
       "      <td>2024-05-21 14:00:00</td>\n",
       "      <td>2024-05-08 14:01:19</td>\n",
       "    </tr>\n",
       "    <tr>\n",
       "      <th>14</th>\n",
       "      <td>Just Cause</td>\n",
       "      <td>-86%</td>\n",
       "      <td>R$ 3,06</td>\n",
       "      <td>65.05%</td>\n",
       "      <td>Sep 2006</td>\n",
       "      <td>2024-05-21 14:00:00</td>\n",
       "      <td>2024-05-08 14:01:19</td>\n",
       "    </tr>\n",
       "  </tbody>\n",
       "</table>\n",
       "</div>"
      ],
      "text/plain": [
       "                                   NAME DESCONT     PRICE  RATING   RELEASE  \\\n",
       "0                         Killing Floor    -90%   R$ 3,49  93.37%  May 2009   \n",
       "1         Dark Messiah of Might & Magic    -75%   R$ 7,49  88.66%  Oct 2006   \n",
       "2                            FlatOut 2™    -80%  R$ 13,99  93.70%  Aug 2006   \n",
       "3                           Xpand Rally    -89%   R$ 1,86  77.47%  Aug 2006   \n",
       "4                  Men of War: Red Tide    -85%   R$ 2,54  80.82%  Nov 2009   \n",
       "5          Judge Dredd: Dredd vs. Death    -60%   R$ 6,39  82.71%  Feb 2005   \n",
       "6                           Evil Genius    -90%   R$ 1,99  89.90%  Sep 2004   \n",
       "7   Aliens versus Predator Classic 2000    -80%   R$ 3,39  84.08%  Mar 2000   \n",
       "8          Sid Meier's Civilization® IV    -85%   R$ 4,49  89.14%  Oct 2005   \n",
       "9                               FlatOut    -80%  R$ 13,99  89.04%  Jul 2005   \n",
       "10       Dreamfall: The Longest Journey    -60%  R$ 23,99  80.36%  Apr 2006   \n",
       "11                  The Longest Journey    -60%  R$ 13,19  86.00%  Nov 2000   \n",
       "12         Nexus - The Jupiter Incident    -80%   R$ 3,99  80.54%  Nov 2004   \n",
       "13               Battlestations: Midway    -86%   R$ 3,06  73.90%  Jan 2007   \n",
       "14                           Just Cause    -86%   R$ 3,06  65.05%  Sep 2006   \n",
       "\n",
       "                  ENDS             STARTED  \n",
       "0  2024-05-23 14:00:00 2024-05-16 14:01:19  \n",
       "1  2024-05-31 14:00:00 2024-05-17 14:01:17  \n",
       "2  2024-05-23 14:00:00 2024-05-09 14:01:20  \n",
       "3  2024-05-24 14:00:00 2024-05-10 14:01:18  \n",
       "4  2024-05-22 14:00:00 2024-05-15 14:01:19  \n",
       "5  2024-05-20 14:00:00 2024-05-07 14:01:21  \n",
       "6  2024-05-20 14:00:00 2024-05-07 14:01:21  \n",
       "7  2024-05-20 14:00:00 2024-05-07 14:01:21  \n",
       "8  2024-05-27 14:00:00 2024-05-13 14:21:19  \n",
       "9  1969-12-31 21:00:00 2024-05-09 14:01:20  \n",
       "10 2024-05-20 14:00:00 2024-05-13 14:21:19  \n",
       "11 2024-05-20 14:00:00 2024-05-13 14:21:19  \n",
       "12 2024-05-20 14:00:00 2024-05-13 14:21:19  \n",
       "13 2024-05-21 14:00:00 2024-05-08 14:01:19  \n",
       "14 2024-05-21 14:00:00 2024-05-08 14:01:19  "
      ]
     },
     "execution_count": 6,
     "metadata": {},
     "output_type": "execute_result"
    }
   ],
   "source": [
    "# Criando data frame para verificar dados e análises.\n",
    "info_games = pd.DataFrame.from_dict(game_play)\n",
    "info_games.head(15)"
   ]
  },
  {
   "cell_type": "code",
   "execution_count": 7,
   "metadata": {},
   "outputs": [
    {
     "data": {
      "text/plain": [
       "816"
      ]
     },
     "execution_count": 7,
     "metadata": {},
     "output_type": "execute_result"
    }
   ],
   "source": [
    "# Verificando quantidade de jogos raspados.\n",
    "len(game_play)"
   ]
  },
  {
   "cell_type": "code",
   "execution_count": 8,
   "metadata": {},
   "outputs": [
    {
     "data": {
      "text/plain": [
       "(816, 7)"
      ]
     },
     "execution_count": 8,
     "metadata": {},
     "output_type": "execute_result"
    }
   ],
   "source": [
    "info_games.shape"
   ]
  },
  {
   "cell_type": "code",
   "execution_count": 9,
   "metadata": {},
   "outputs": [],
   "source": [
    "# Gerando CVS para importa no Google BigQuery.\n",
    "info_games.to_csv(\"info_games.csv\", index=False)"
   ]
  },
  {
   "cell_type": "markdown",
   "metadata": {},
   "source": [
    "## Google BigQuery"
   ]
  },
  {
   "cell_type": "code",
   "execution_count": 10,
   "metadata": {},
   "outputs": [],
   "source": [
    "# Credenciais para conexão com GoogleBigquery.\n",
    "credencial = service_account.Credentials.from_service_account_file(\n",
    "    r'C:\\Users\\italo\\Downloads\\disco-idea-423616-n5-2e4ca0b0b00a.json',\n",
    "    scopes = ['https://www.googleapis.com/auth/bigquery']\n",
    ")"
   ]
  },
  {
   "cell_type": "code",
   "execution_count": 11,
   "metadata": {},
   "outputs": [],
   "source": [
    "# Enviando dados para BigQuery\n",
    "info_games.to_gbq(\n",
    "    destination_table='disco-idea-423616-n5.steamdb.gameplay',\n",
    "    project_id='disco-idea-423616-n5',\n",
    "    if_exists='replace',\n",
    "    credentials=credencial\n",
    ")"
   ]
  }
 ],
 "metadata": {
  "kernelspec": {
   "display_name": ".venv",
   "language": "python",
   "name": "python3"
  },
  "language_info": {
   "codemirror_mode": {
    "name": "ipython",
    "version": 3
   },
   "file_extension": ".py",
   "mimetype": "text/x-python",
   "name": "python",
   "nbconvert_exporter": "python",
   "pygments_lexer": "ipython3",
   "version": "3.12.1"
  }
 },
 "nbformat": 4,
 "nbformat_minor": 2
}
